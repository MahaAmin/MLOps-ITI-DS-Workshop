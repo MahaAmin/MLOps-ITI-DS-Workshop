{
 "cells": [
  {
   "cell_type": "markdown",
   "id": "7571efee-a68c-4faa-830a-82506cb098bb",
   "metadata": {},
   "source": [
    "# Vertex Pipeline with KFP (Kube Flow Pipelines)"
   ]
  },
  {
   "cell_type": "code",
   "execution_count": null,
   "id": "326f407f-742a-4463-bf98-94621a2f338c",
   "metadata": {
    "tags": []
   },
   "outputs": [],
   "source": [
    "!pip install google-cloud-aiplatform==1.50.0 kfp==2.7.0"
   ]
  },
  {
   "cell_type": "code",
   "execution_count": null,
   "id": "b37d4985-64a0-4201-8517-0306df33ea18",
   "metadata": {
    "tags": []
   },
   "outputs": [],
   "source": [
    "!pip install google-cloud-pipeline-components==2.14.0"
   ]
  },
  {
   "cell_type": "code",
   "execution_count": null,
   "id": "7b6e350f-0e06-4431-b0d6-af65141c3dea",
   "metadata": {
    "tags": []
   },
   "outputs": [],
   "source": [
    "YOUR_NAME=\"your-name\" # TO-DO: store your name in this var"
   ]
  },
  {
   "cell_type": "code",
   "execution_count": null,
   "id": "cab83f96-ea6f-4b68-9d2c-513e546bdb63",
   "metadata": {
    "tags": []
   },
   "outputs": [],
   "source": [
    "PROJECT_ID='mlops-421501'\n",
    "BUCKET=f\"gs://{PROJECT_ID}-{YOUR_NAME}-bucket\""
   ]
  },
  {
   "cell_type": "code",
   "execution_count": null,
   "id": "1203628b-508f-48d8-9965-840f524c4a57",
   "metadata": {
    "tags": []
   },
   "outputs": [],
   "source": [
    "import kfp\n",
    "\n",
    "from kfp.v2 import compiler, dsl\n",
    "from kfp.v2.dsl import component, pipeline, Artifact, ClassificationMetrics, Input, Output, Model, Metrics\n",
    "\n",
    "from google.cloud import aiplatform\n",
    "import google_cloud_pipeline_components\n",
    "from typing import NamedTuple"
   ]
  },
  {
   "cell_type": "code",
   "execution_count": null,
   "id": "197d1a0f-6e6b-4e90-947f-4426b6c1eeb6",
   "metadata": {
    "tags": []
   },
   "outputs": [],
   "source": [
    "PATH=%env PATH\n",
    "%env PATH={PATH}:/home/jupyter/.local/bin\n",
    "REGION=\"us-central1\"\n",
    "\n",
    "PIPELINE_ROOT = f\"{BUCKET}/pipeline_root/\"\n",
    "PIPELINE_ROOT"
   ]
  },
  {
   "cell_type": "code",
   "execution_count": null,
   "id": "ddcf9db1-6997-41a7-b922-e85055648b2c",
   "metadata": {
    "tags": []
   },
   "outputs": [],
   "source": [
    "@component(base_image=\"python:3.9\")\n",
    "def product_name(text: str) -> str:\n",
    "    return text"
   ]
  },
  {
   "cell_type": "code",
   "execution_count": null,
   "id": "a6068fcf-768b-4cc6-8251-385a7bb90b1d",
   "metadata": {
    "tags": []
   },
   "outputs": [],
   "source": [
    "@component(base_image=\"python:3.8\", packages_to_install=[\"emoji\"])\n",
    "def emoji(\n",
    "    text: str,\n",
    ") -> NamedTuple(\n",
    "    \"Outputs\",\n",
    "    [\n",
    "        (\"emoji_text\", str),  # Return parameters\n",
    "        (\"emoji\", str),\n",
    "    ],\n",
    "):\n",
    "    import emoji\n",
    "\n",
    "    emoji_text = text\n",
    "    emoji_str = emoji.emojize(':' + emoji_text + ':', language='alias')\n",
    "    print(\"output one: {}; output_two: {}\".format(emoji_text, emoji_str))\n",
    "    return (emoji_text, emoji_str)"
   ]
  },
  {
   "cell_type": "code",
   "execution_count": null,
   "id": "89d3f4c5-ad0c-48cb-b868-6f59195f7f7c",
   "metadata": {
    "tags": []
   },
   "outputs": [],
   "source": [
    "@component\n",
    "def build_sentence(\n",
    "    product: str,\n",
    "    emoji: str,\n",
    "    emojitext: str\n",
    ") -> str:\n",
    "    print(\"We completed the pipeline, hooray!\")\n",
    "    end_str = product + \" is \"\n",
    "    if len(emoji) > 0:\n",
    "        end_str += emoji\n",
    "    else:\n",
    "        end_str += emojitext\n",
    "    return(end_str)"
   ]
  },
  {
   "cell_type": "code",
   "execution_count": null,
   "id": "ef675821-8932-4e80-8527-1940104f38a6",
   "metadata": {
    "tags": []
   },
   "outputs": [],
   "source": [
    "@pipeline(\n",
    "    name=\"hello-world\",\n",
    "    description=\"An intro pipeline\",\n",
    "    pipeline_root=PIPELINE_ROOT,\n",
    ")\n",
    "\n",
    "# You can change the `text` and `emoji_str` parameters here to update the pipeline output\n",
    "def intro_pipeline(\n",
    "    text: str = \"Vertex Pipelines\", \n",
    "    emoji_str: str = \"sparkles\"\n",
    "):\n",
    "    product_task = product_name(text=text)\n",
    "    emoji_task = emoji(text=emoji_str)\n",
    "    consumer_task = build_sentence(\n",
    "        product=product_task.output,\n",
    "        emoji=emoji_task.outputs[\"emoji\"],\n",
    "        emojitext=emoji_task.outputs[\"emoji_text\"],\n",
    "    )"
   ]
  },
  {
   "cell_type": "code",
   "execution_count": null,
   "id": "4b01eb42-1cfd-473a-ad3f-3ef5088756af",
   "metadata": {
    "tags": []
   },
   "outputs": [],
   "source": [
    "compiler.Compiler().compile(\n",
    "    pipeline_func=intro_pipeline, package_path=\"intro_pipeline_job.json\"\n",
    ")"
   ]
  },
  {
   "cell_type": "code",
   "execution_count": null,
   "id": "cbc7c37a-a9d7-47a7-9626-db942249fb09",
   "metadata": {
    "tags": []
   },
   "outputs": [],
   "source": [
    "from datetime import datetime\n",
    "\n",
    "TIMESTAMP = datetime.now().strftime(\"%Y%m%d%H%M%S\")"
   ]
  },
  {
   "cell_type": "code",
   "execution_count": null,
   "id": "5db263dd-af5b-47dc-a708-10e86f13f482",
   "metadata": {
    "tags": []
   },
   "outputs": [],
   "source": [
    "job = aiplatform.PipelineJob(\n",
    "    display_name=f\"{YOUR_NAME}-hello-world-pipeline\",\n",
    "    template_path=\"intro_pipeline_job.json\",\n",
    "    job_id=\"hello-world-pipeline-{0}\".format(TIMESTAMP),\n",
    "    enable_caching=True\n",
    ")"
   ]
  },
  {
   "cell_type": "code",
   "execution_count": null,
   "id": "6168fbc7-1c23-480c-8482-5ee07ff8613d",
   "metadata": {
    "tags": []
   },
   "outputs": [],
   "source": [
    "job.submit()"
   ]
  },
  {
   "cell_type": "code",
   "execution_count": null,
   "id": "c7e6f7af-2905-4497-90b0-0f60ff21c7ae",
   "metadata": {},
   "outputs": [],
   "source": []
  }
 ],
 "metadata": {
  "environment": {
   "kernel": "python3",
   "name": "tf2-cpu.2-11.m120",
   "type": "gcloud",
   "uri": "us-docker.pkg.dev/deeplearning-platform-release/gcr.io/tf2-cpu.2-11:m120"
  },
  "kernelspec": {
   "display_name": "Python 3",
   "language": "python",
   "name": "python3"
  },
  "language_info": {
   "codemirror_mode": {
    "name": "ipython",
    "version": 3
   },
   "file_extension": ".py",
   "mimetype": "text/x-python",
   "name": "python",
   "nbconvert_exporter": "python",
   "pygments_lexer": "ipython3",
   "version": "3.10.14"
  }
 },
 "nbformat": 4,
 "nbformat_minor": 5
}
