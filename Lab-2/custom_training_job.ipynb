{
 "cells": [
  {
   "cell_type": "markdown",
   "id": "19453fd3-1324-41ce-b74e-49cd7375614e",
   "metadata": {},
   "source": [
    "# Custom Training Job In Vertex AI\n",
    "\n",
    "### Objectives:\n",
    "\n",
    "- Using GCloud commands, setup basic infrastructure\n",
    "- Build and push custom Dokcer image to Docker artifact registry\n",
    "- Export and structure your code outside Jupyter notebook\n",
    "- Read data from GCS\n",
    "- Run custom training job to train TensorFlow model\n",
    "- Export and store your model to GCS bucket"
   ]
  },
  {
   "cell_type": "code",
   "execution_count": null,
   "id": "3d466c33-3abc-4ee5-b8f1-51bbbc44a8fb",
   "metadata": {
    "tags": []
   },
   "outputs": [],
   "source": [
    "from google.cloud import aiplatform"
   ]
  },
  {
   "cell_type": "code",
   "execution_count": null,
   "id": "ffc95820-aa22-48cc-b0ea-c5d62e5f676b",
   "metadata": {
    "tags": []
   },
   "outputs": [],
   "source": [
    "YOUR_NAME=\"your-name\" # TO-DO: store your name in this var"
   ]
  },
  {
   "cell_type": "code",
   "execution_count": null,
   "id": "aba36bbd-8d99-4d5e-85e7-a7935fcda383",
   "metadata": {
    "tags": []
   },
   "outputs": [],
   "source": [
    "PROJECT_ID='mlops-421501'\n",
    "BUCKET=f\"gs://{PROJECT_ID}-{YOUR_NAME}-bucket\"\n",
    "REPO_NAME=f\"{YOUR_NAME}-flower-app\"\n",
    "IMAGE_URI=f\"us-central1-docker.pkg.dev/{PROJECT_ID}/{REPO_NAME}/{YOUR_NAME}_flower_image:latest\""
   ]
  },
  {
   "cell_type": "code",
   "execution_count": null,
   "id": "f524a2ce-c565-4bb0-a41b-884395e98934",
   "metadata": {
    "tags": []
   },
   "outputs": [],
   "source": [
    "train_job_2 = aiplatform.CustomContainerTrainingJob(display_name=f\"{YOUR_NAME}-flower-train-job\",\n",
    "                                               container_uri=IMAGE_URI,\n",
    "                                               staging_bucket=BUCKET)"
   ]
  },
  {
   "cell_type": "code",
   "execution_count": null,
   "id": "43e8f05a-f285-4c3c-a7c8-20cf5ea098d7",
   "metadata": {},
   "outputs": [],
   "source": [
    "train_job_2.run(replica_count=1,\n",
    "           machine_type='n1-standard-8',\n",
    "           # accelerator_type='NVIDIA_TESLA_V100',   # tain with GPUs\n",
    "           accelerator_count=1)"
   ]
  },
  {
   "cell_type": "code",
   "execution_count": null,
   "id": "a45d8552-1fbf-4df8-8835-039e02035166",
   "metadata": {},
   "outputs": [],
   "source": []
  }
 ],
 "metadata": {
  "environment": {
   "kernel": "python3",
   "name": "tf2-cpu.2-11.m120",
   "type": "gcloud",
   "uri": "us-docker.pkg.dev/deeplearning-platform-release/gcr.io/tf2-cpu.2-11:m120"
  },
  "kernelspec": {
   "display_name": "Python 3",
   "language": "python",
   "name": "python3"
  },
  "language_info": {
   "codemirror_mode": {
    "name": "ipython",
    "version": 3
   },
   "file_extension": ".py",
   "mimetype": "text/x-python",
   "name": "python",
   "nbconvert_exporter": "python",
   "pygments_lexer": "ipython3",
   "version": "3.10.14"
  }
 },
 "nbformat": 4,
 "nbformat_minor": 5
}
