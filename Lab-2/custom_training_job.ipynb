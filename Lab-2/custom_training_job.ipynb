{
 "cells": [
  {
   "cell_type": "markdown",
   "id": "19453fd3-1324-41ce-b74e-49cd7375614e",
   "metadata": {},
   "source": [
    "# Custom Training Job In Vertex AI"
   ]
  },
  {
   "cell_type": "code",
   "execution_count": 1,
   "id": "3d466c33-3abc-4ee5-b8f1-51bbbc44a8fb",
   "metadata": {
    "tags": []
   },
   "outputs": [],
   "source": [
    "from google.cloud import aiplatform"
   ]
  },
  {
   "cell_type": "code",
   "execution_count": 2,
   "id": "ffc95820-aa22-48cc-b0ea-c5d62e5f676b",
   "metadata": {
    "tags": []
   },
   "outputs": [],
   "source": [
    "YOUR_NAME=\"maha\" # TO-DO: store your name in this var"
   ]
  },
  {
   "cell_type": "code",
   "execution_count": 5,
   "id": "aba36bbd-8d99-4d5e-85e7-a7935fcda383",
   "metadata": {
    "tags": []
   },
   "outputs": [],
   "source": [
    "PROJECT_ID='mlops-421501'\n",
    "BUCKET=f\"gs://{PROJECT_ID}-{YOUR_NAME}-bucket\"\n",
    "REPO_NAME=f\"{YOUR_NAME}-flower-app\"\n",
    "IMAGE_URI=f\"us-central1-docker.pkg.dev/{PROJECT_ID}/{REPO_NAME}/{YOUR_NAME}_flower_image:latest\""
   ]
  },
  {
   "cell_type": "code",
   "execution_count": 10,
   "id": "f524a2ce-c565-4bb0-a41b-884395e98934",
   "metadata": {
    "tags": []
   },
   "outputs": [],
   "source": [
    "train_job_2 = aiplatform.CustomContainerTrainingJob(display_name='flower-train-job',\n",
    "                                               container_uri=IMAGE_URI,\n",
    "                                               staging_bucket=BUCKET)"
   ]
  },
  {
   "cell_type": "code",
   "execution_count": 11,
   "id": "3079a2c6-04f1-48b9-8751-5a079690d3df",
   "metadata": {
    "tags": []
   },
   "outputs": [
    {
     "name": "stdout",
     "output_type": "stream",
     "text": [
      "Training Output directory:\n",
      "gs://mlops-421501-maha-bucket/aiplatform-custom-training-2024-05-06-22:25:49.314 \n",
      "View Training:\n",
      "https://console.cloud.google.com/ai/platform/locations/us-central1/training/7433167579834744832?project=578837671090\n",
      "CustomContainerTrainingJob projects/578837671090/locations/us-central1/trainingPipelines/7433167579834744832 current state:\n",
      "PipelineState.PIPELINE_STATE_RUNNING\n",
      "View backing custom job:\n",
      "https://console.cloud.google.com/ai/platform/locations/us-central1/training/5577614164613922816?project=578837671090\n",
      "CustomContainerTrainingJob projects/578837671090/locations/us-central1/trainingPipelines/7433167579834744832 current state:\n",
      "PipelineState.PIPELINE_STATE_RUNNING\n",
      "CustomContainerTrainingJob projects/578837671090/locations/us-central1/trainingPipelines/7433167579834744832 current state:\n",
      "PipelineState.PIPELINE_STATE_RUNNING\n",
      "CustomContainerTrainingJob projects/578837671090/locations/us-central1/trainingPipelines/7433167579834744832 current state:\n",
      "PipelineState.PIPELINE_STATE_RUNNING\n",
      "CustomContainerTrainingJob projects/578837671090/locations/us-central1/trainingPipelines/7433167579834744832 current state:\n",
      "PipelineState.PIPELINE_STATE_RUNNING\n",
      "CustomContainerTrainingJob projects/578837671090/locations/us-central1/trainingPipelines/7433167579834744832 current state:\n",
      "PipelineState.PIPELINE_STATE_RUNNING\n",
      "CustomContainerTrainingJob projects/578837671090/locations/us-central1/trainingPipelines/7433167579834744832 current state:\n",
      "PipelineState.PIPELINE_STATE_RUNNING\n",
      "CustomContainerTrainingJob run completed. Resource name: projects/578837671090/locations/us-central1/trainingPipelines/7433167579834744832\n",
      "Training did not produce a Managed Model returning None. Training Pipeline projects/578837671090/locations/us-central1/trainingPipelines/7433167579834744832 is not configured to upload a Model. Create the Training Pipeline with model_serving_container_image_uri and model_display_name passed in. Ensure that your training script saves to model to os.environ['AIP_MODEL_DIR'].\n"
     ]
    }
   ],
   "source": [
    "train_job_2.run(replica_count=1,\n",
    "           machine_type='n1-standard-8',\n",
    "           accelerator_count=1)"
   ]
  },
  {
   "cell_type": "code",
   "execution_count": null,
   "id": "43e8f05a-f285-4c3c-a7c8-20cf5ea098d7",
   "metadata": {},
   "outputs": [],
   "source": []
  }
 ],
 "metadata": {
  "environment": {
   "kernel": "python3",
   "name": "tf2-cpu.2-11.m120",
   "type": "gcloud",
   "uri": "us-docker.pkg.dev/deeplearning-platform-release/gcr.io/tf2-cpu.2-11:m120"
  },
  "kernelspec": {
   "display_name": "Python 3",
   "language": "python",
   "name": "python3"
  },
  "language_info": {
   "codemirror_mode": {
    "name": "ipython",
    "version": 3
   },
   "file_extension": ".py",
   "mimetype": "text/x-python",
   "name": "python",
   "nbconvert_exporter": "python",
   "pygments_lexer": "ipython3",
   "version": "3.10.14"
  }
 },
 "nbformat": 4,
 "nbformat_minor": 5
}
